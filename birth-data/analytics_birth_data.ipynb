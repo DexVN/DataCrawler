{
 "cells": [
  {
   "cell_type": "code",
   "execution_count": 1,
   "metadata": {},
   "outputs": [
    {
     "name": "stdout",
     "output_type": "stream",
     "text": [
      "Filtered data has been written to filtered_birth_data.json\n"
     ]
    }
   ],
   "source": [
    "import json\n",
    "\n",
    "# Load the JSON data from the file\n",
    "with open('birth_data.json', 'r', encoding='utf-8') as f:\n",
    "    data = json.load(f)\n",
    "\n",
    "# Initialize a list to store filtered items\n",
    "filtered_items = []\n",
    "\n",
    "# Loop through each entry in the data\n",
    "for entry in data:\n",
    "    # Filter items to get those with empty \"attachNames\" and \"attachPathIcons\"\n",
    "    filtered_entry_items = [item for item in entry['items'] if not item.get(\"attachNames\") and not item.get(\"attachPathIcons\")]\n",
    "    \n",
    "    # Update the entry with filtered items and new totalRows\n",
    "    entry['items'] = filtered_entry_items\n",
    "    entry['totalRows'] = len(filtered_entry_items)\n",
    "    \n",
    "    # Append the updated entry to the filtered_items list\n",
    "    filtered_items.append(entry)\n",
    "\n",
    "# Write the filtered data to a new JSON file\n",
    "with open('filtered_birth_data.json', 'w', encoding='utf-8') as f:\n",
    "    json.dump(filtered_items, f, ensure_ascii=False, indent=4)\n",
    "\n",
    "print(\"Filtered data has been written to filtered_birth_data.json\")"
   ]
  }
 ],
 "metadata": {
  "kernelspec": {
   "display_name": "Python 3",
   "language": "python",
   "name": "python3"
  },
  "language_info": {
   "codemirror_mode": {
    "name": "ipython",
    "version": 3
   },
   "file_extension": ".py",
   "mimetype": "text/x-python",
   "name": "python",
   "nbconvert_exporter": "python",
   "pygments_lexer": "ipython3",
   "version": "3.13.0"
  }
 },
 "nbformat": 4,
 "nbformat_minor": 2
}
