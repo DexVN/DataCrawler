{
 "cells": [
  {
   "cell_type": "code",
   "execution_count": 17,
   "id": "f2d7bc51-1e18-4511-a9ca-969c7b7ef17f",
   "metadata": {},
   "outputs": [],
   "source": [
    "import requests\n",
    "from bs4 import BeautifulSoup"
   ]
  },
  {
   "cell_type": "code",
   "execution_count": 18,
   "id": "2147efad-fbbc-47a7-9029-1f220c1b9a2a",
   "metadata": {},
   "outputs": [],
   "source": [
    "# URL of the page you want to scrape\n",
    "# Tạo một phiên làm việc\n",
    "session = requests.Session()\n",
    "\n",
    "url = 'https://tnu.aum.edu.vn/mod/quiz/view.php?id=300132'"
   ]
  },
  {
   "cell_type": "code",
   "execution_count": 19,
   "id": "f269bde8-4950-4478-a8c6-0c4986b2ccc3",
   "metadata": {},
   "outputs": [],
   "source": [
    "# Define the cookie\n",
    "cookies = {\n",
    "    'MoodleSession': '0psc6b66de24q0abviq7usvib6'  # Replace with actual cookie name and value\n",
    "}"
   ]
  },
  {
   "cell_type": "code",
   "execution_count": 20,
   "id": "7f28f0ac-4c18-4ee4-8f7d-09cb8b098f9e",
   "metadata": {},
   "outputs": [],
   "source": [
    "# Make the request with cookies\n",
    "response = requests.get(url, cookies=cookies)"
   ]
  },
  {
   "cell_type": "code",
   "execution_count": 21,
   "id": "9caa5daf-aa29-44d3-984c-6978dcb0a00a",
   "metadata": {},
   "outputs": [
    {
     "name": "stdout",
     "output_type": "stream",
     "text": [
      "Request successful\n"
     ]
    }
   ],
   "source": [
    "# Check the status code of the response\n",
    "if response.status_code == 200:\n",
    "    print(\"Request successful\")\n",
    "else:\n",
    "    print(f\"Failed to retrieve page: {response.status_code}\")"
   ]
  },
  {
   "cell_type": "code",
   "execution_count": 22,
   "id": "2ffa2c07-2164-4944-851d-42ae76c080d2",
   "metadata": {},
   "outputs": [],
   "source": [
    "# Parse the page with BeautifulSoup\n",
    "soup = BeautifulSoup(response.content, 'html.parser')"
   ]
  },
  {
   "cell_type": "code",
   "execution_count": 23,
   "id": "c6047bca",
   "metadata": {},
   "outputs": [],
   "source": [
    "# Find the element table class generaltable quizattemptsummary\n",
    "table = soup.find('table', class_='generaltable quizattemptsummary')\n",
    "# Find all href links in the table\n",
    "links = table.find_all('a')\n",
    "# Get value from href\n",
    "link_data = [link.get('href') for link in links]\n"
   ]
  },
  {
   "cell_type": "code",
   "execution_count": 24,
   "id": "ae3362d3-a7e3-47cc-81c8-4ed501cddd02",
   "metadata": {},
   "outputs": [
    {
     "name": "stdout",
     "output_type": "stream",
     "text": [
      "Request successful\n",
      "Không được phân mức.\n",
      "Các thành phần của hệ thống thông tin.\n",
      "Danh từ (Danh từ là những từ chỉ người, sự vật, con vật, sự việc, khái niệm… ) và tính  từ nếu cần thiết\n",
      "Phát triển mô hình quan niệm dữ liệu và các mô hình  xử lý\n",
      "Truy xuất dữ liệu.\n",
      "Các vòng tròn biểu diễn tiến trình.\n",
      "Xây dựng biểu đồ thực thể quan hệ và xây dựng từ điển dữ liệu\n",
      "Mô hình chức năng nghiệp vụ phân rã có thứ bậc một cách đơn giản các chức năng của tổ chức\n",
      "Được quy định bởi các nhà phân tích hệ thống.\n",
      "Câu trả lời đúng là: Mô hình hệ thống ở mức tổng quát nhất. Hệ thống chỉ có một chức năng duy nhất. Các tác nhân ngoài cùng các luồng dữ  liệu vào/ra từ tác nhân ngoài\n",
      "[{'question': 'Sơ đồ khối có đặc điểm gì trong những đặc điểm sau đây?', 'answers': ['A. Không thể phân mức được.', 'B. Không được phân mức.', 'C. Cũng được phân mức.', 'D. Phân mức được nhưng khó.'], 'correct_answer': 'Không được phân mức.', 'correct_symbol': 'B'}, {'question': 'Các tác nhân ngoài được chỉ ra trong biểu đồ luồng dữ liệu là', 'answers': ['A. Không là trường hợp nào kể trên.', 'B. Môi trường của hệ thống thông tin.', 'C. Đặt dưới sự điều khiển của hệ thống thông tin.', 'D. Các thành phần của hệ thống thông tin.'], 'correct_answer': 'Các thành phần của hệ thống thông tin.', 'correct_symbol': 'D'}, {'question': 'Tác nhân ngoài có định danh là', 'answers': ['A. Động từ (Động từ là một từ (thành phần câu) dùng để biểu thị hoạt động (chạy, đi, đọc), trạng thái (tồn tại, ngồi).)', 'B. Tính từ (tính từ là những từ chỉ đặc điểm, tính chất của sự vật, hành động , trạng thái.)', 'C. Trạng từ (Trạng từ hay còn được gọi là phó từ là từ dùng để bổ nghĩa cho các động từ, tính từ hay các trạng từ khác.)', 'D. Danh từ (Danh từ là những từ chỉ người, sự vật, con vật, sự việc, khái niệm… ) và tính\\xa0 từ nếu cần thiết'], 'correct_answer': 'Danh từ (Danh từ là những từ chỉ người, sự vật, con vật, sự việc, khái niệm… ) và tính\\xa0 từ nếu cần thiết', 'correct_symbol': 'D'}, {'question': 'Nhiệm vụ của giai đoạn phân tích là', 'answers': ['A. Phát triển mô hình quan niệm dữ liệu và các mô hình  xử lý ', 'B. Phát triển mô hình quan niệm dữ liệu và các mô hình  kiểm tra HT ', 'C. Phát triển mô hình tri thức  và các mô hình  xử lý ', 'D. Phát triển mô hình trừu tượng và các mô hình  xử lý '], 'correct_answer': 'Phát triển mô hình quan niệm dữ liệu và các mô hình  xử lý', 'correct_symbol': 'A'}, {'question': 'Không có sự thay đổi nào trong kho dữ liệu do', 'answers': ['A. Cập nhật dữ liệu.', 'B. Lưu giữ dữ liệu.', 'C. Nhập vào dữ liệu.', 'D. Truy xuất dữ liệu.'], 'correct_answer': 'Truy xuất dữ liệu.', 'correct_symbol': 'D'}, {'question': 'Thuật ngữ “nổi bọt” (bubble) trong biểu đồ luồng dữ liệu được sử dụng cho', 'answers': ['A. Luồng dữ liệu.', 'B. Phạm vi hệ thống.', 'C. Tác nhân ngoài.', 'D. Các vòng tròn biểu diễn tiến trình.'], 'correct_answer': 'Các vòng tròn biểu diễn tiến trình.', 'correct_symbol': 'D'}, {'question': 'Phát triển mô hình quan niệm dữ liệu là', 'answers': ['A. Xây dựng biểu đồ thực thể quan hệ và xây dựng từ điển dữ liệu', 'B. Xây dựng các đối tượng quản lý', 'C. Xây dựng các dữ liệu phức hợp', 'D. Xây dựng tương tác các dữ liệu'], 'correct_answer': 'Xây dựng biểu đồ thực thể quan hệ và xây dựng từ điển dữ liệu', 'correct_symbol': 'A'}, {'question': 'Mô hình phân cấp chức năng (BFD) là', 'answers': ['A. Xác định chức năng nghiệp vụ được tiến hành sau khi có tổ chức ', 'B. Mô hình các hoạt động chủ yếu của hệ thống', 'C. Mô hình chức năng nghiệp vụ phân rã có thứ bậc một cách đơn giản các chức năng của tổ chức', 'D. Sơ đồ tổ chức các chức năng của hệ thống'], 'correct_answer': 'Mô hình chức năng nghiệp vụ phân rã có thứ bậc một cách đơn giản các chức năng của tổ chức', 'correct_symbol': 'C'}, {'question': 'Số lượng mức của các DFD của hệ thống thông tin là:', 'answers': ['A. Được quy định khắt khe bởi cấu trúc hệ thống.', 'B. Được quy định bởi việc quản lý tổ chức.', 'C. Được quy định bởi các nhà phân tích hệ thống.', 'D. Do yêu cầu của người sử dụng.'], 'correct_answer': 'Được quy định bởi các nhà phân tích hệ thống.', 'correct_symbol': 'C'}, {'question': 'Sơ đồ luồng dữ liệu mức ngữ cảnh là', 'answers': ['A. Đặc tả Hệ thống theo ngữ cảnh', 'B. Mô hình hệ thống ở mức tổng quát nhất. Hệ thống chỉ có một chức năng duy nhất. Các tác nhân ngoài cùng các luồng dữ  liệu vào/ra từ tác nhân ngoài', 'C. Mô tả các luồng dữ liệu vào ra hệ thống', 'D. Các thành phần dữ liệu của hệ thống'], 'correct_answer': 'Câu trả lời đúng là: Mô hình hệ thống ở mức tổng quát nhất. Hệ thống chỉ có một chức năng duy nhất. Các tác nhân ngoài cùng các luồng dữ  liệu vào/ra từ tác nhân ngoài', 'correct_symbol': ''}]\n",
      "Request successful\n",
      "Từ tập thực thể và tập liên kết.\n",
      "Trình tự tiến trình.\n",
      "Xác định  các nhân tố kế hoạch chiến lược, xác định các đối tượng lập kế hoạch, xây dựng các mô hình nghiệp vụ, lập kế hoạch phát triển HTTT\n",
      "Xây dựng các bảng, các file chỉ dẫn, các thành phần phân tán dữ liệu\n",
      "Một phần của tiến trình hình tròn. \n",
      "Dữ liệu hệ thống.\n",
      "[{'question': 'Trong mô hình dữ liệu, bảng quan hệ dữ liệu rút ra:', 'answers': ['A. Chỉ từ tập liên kết.', 'B. Từ tập thực thể và tập liên kết.', 'C. Từ các tiến trình hệ thống ', 'D. Chỉ từ tập thực thể.'], 'correct_answer': 'Từ tập thực thể và tập liên kết.', 'correct_symbol': 'B'}, {'question': 'Trong sơ đồ khối của hệ thống thông tin, các mũi tên giữa các khối biểu diễn', 'answers': ['A. Luồng dữ liệu.', 'B. Trình tự tiến trình.', 'C. Các kho dữ liệu.', 'D. Các tiến trình.'], 'correct_answer': 'Trình tự tiến trình.', 'correct_symbol': 'B'}, {'question': 'Quá trình lập kế hoạch bao gồm các công việc?', 'answers': ['A. Xác định các sản phẩm sẽ xây dựng, lập kế hoạch phát triển HTTT', 'B. Xác định  các nhân tố kế hoạch chiến lược, xác định các đối tượng lập kế hoạch, xây dựng các mô hình nghiệp vụ, lập kế hoạch phát triển HTTT', 'C. Xác định  mục tiêu ,  các nhân tố nguồn lực  xác định  kinh phí và lập lịch biểu ', 'D. Xác định các đối tượng quản lý,  các nhân tố quyết định đến  sống còn của doanh nghiệp, .'], 'correct_answer': 'Xác định  các nhân tố kế hoạch chiến lược, xác định các đối tượng lập kế hoạch, xây dựng các mô hình nghiệp vụ, lập kế hoạch phát triển HTTT', 'correct_symbol': 'B'}, {'question': 'Xây dựng các thành phần của CSDL là', 'answers': ['A. Chuẩn hóa CSDL', 'B. Xây dựng các khóa truy cập và xác định các thành phần truy cập', 'C. Xác định phương pháp truy cập các file CSDL', 'D. Xây dựng các bảng, các file chỉ dẫn, các thành phần phân tán dữ liệu'], 'correct_answer': 'Xây dựng các bảng, các file chỉ dẫn, các thành phần phân tán dữ liệu', 'correct_symbol': 'D'}, {'question': 'Trong biểu đồ luồng dữ liệu, tiến trình lặp được biểu diễn bằng:', 'answers': ['A. Mũi tên quay vòng trên tiến trình hình tròn.  \\xa0', 'B. Một phần của tiến trình hình tròn. \\xa0', 'C. Nhiều đường luồng dữ liệu. \\xa0', 'D. Toàn bộ tiến trình. '], 'correct_answer': 'Một phần của tiến trình hình tròn. ', 'correct_symbol': 'B'}, {'question': 'Sơ đồ E-R của hệ thống thông tin được tập trung vào…', 'answers': ['A. Các dữ liệu đầu vào cho HT.', 'B. Các tiến trình hệ thống.', 'C. Dữ liệu hệ thống.', 'D. Dữ liệu và các tiến trình hệ thống'], 'correct_answer': 'Dữ liệu hệ thống.', 'correct_symbol': 'C'}]\n",
      "Request successful\n",
      "[]\n",
      "Request successful\n",
      "[]\n",
      "Request successful\n",
      "[]\n"
     ]
    }
   ],
   "source": [
    "for link in link_data:\n",
    "    # Make the request with cookies\n",
    "    response = requests.get(link, cookies=cookies)\n",
    "\n",
    "    # Check the status code of the response\n",
    "    if response.status_code == 200:\n",
    "        print(\"Request successful\")\n",
    "    else:\n",
    "        print(f\"Failed to retrieve page: {response.status_code}\")\n",
    "\n",
    "    # Parse the page with BeautifulSoup\n",
    "    soup = BeautifulSoup(response.content, 'html.parser')\n",
    "\n",
    "    form = soup.find_all('form')\n",
    "\n",
    "    # Find by class\n",
    "    div = form[1].find_all('div', class_='que')\n",
    "\n",
    "    questions_answers = []\n",
    "\n",
    "    # Check file don't exits then create file\n",
    "    with open('information_systems_analysis_and_design.txt', 'a', encoding='utf-8') as file:\n",
    "        file.write('')\n",
    "\n",
    "    # Check file to get number of questions\n",
    "    number_of_question = 0\n",
    "    with open('information_systems_analysis_and_design.txt', 'r', encoding='utf-8') as file:\n",
    "        for line in file:\n",
    "            if line.startswith('Question'):\n",
    "                number_of_question += 1\n",
    "\n",
    "    for i in range(len(div)):\n",
    "        questions_answer = {\n",
    "            'question': '',\n",
    "            'answers': [],\n",
    "            'correct_answer': '',\n",
    "            'correct_symbol': ''\n",
    "        }\n",
    "        \n",
    "        question = div[i].find('div', class_='qtext').text\n",
    "        # Check file to ignore duplicate questions\n",
    "        with open('information_systems_analysis_and_design.txt', 'r', encoding='utf-8') as file:\n",
    "            if question in file.read():\n",
    "                continue\n",
    "        \n",
    "        questions_answer['question'] = question\n",
    "        \n",
    "        span = div[i].find_all('span', class_='answernumber')\n",
    "        value = div[i].find_all('div', class_='flex-fill ml-1')\n",
    "        try:\n",
    "            correct_answer = div[i].find('div', class_='rightanswer').find('p').text\n",
    "        except:\n",
    "            correct_answer = div[i].find('div', class_='rightanswer').text\n",
    "        print(correct_answer)\n",
    "\n",
    "        for j in range(len(span)):\n",
    "            answer = span[j].text + value[j].text\n",
    "            questions_answer['answers'].append(answer)\n",
    "            if correct_answer in answer:\n",
    "                questions_answer['correct_symbol'] = span[j].text[0:1]\n",
    "\n",
    "        questions_answer['correct_answer'] = correct_answer\n",
    "        questions_answers.append(questions_answer)    \n",
    "\n",
    "    # Save to file\n",
    "    with open('information_systems_analysis_and_design.txt', 'a', encoding='utf-8') as file:\n",
    "        for index, qa in enumerate(questions_answers):\n",
    "            file.write(f\"Question {number_of_question + index + 1}: {qa['question']}\\n\")\n",
    "            for answer in qa['answers']:\n",
    "                file.write(f\"Answer: {answer}\\n\")\n",
    "            file.write(f\"Correct Answer: {qa['correct_answer']}\\n\")\n",
    "            file.write(f\"Correct Symbol: {qa['correct_symbol']}\\n\")\n",
    "            file.write(\"--------------------\\n\")\n",
    "\n",
    "    print(questions_answers)\n"
   ]
  }
 ],
 "metadata": {
  "kernelspec": {
   "display_name": "Python 3",
   "language": "python",
   "name": "python3"
  },
  "language_info": {
   "codemirror_mode": {
    "name": "ipython",
    "version": 3
   },
   "file_extension": ".py",
   "mimetype": "text/x-python",
   "name": "python",
   "nbconvert_exporter": "python",
   "pygments_lexer": "ipython3",
   "version": "3.13.0"
  }
 },
 "nbformat": 4,
 "nbformat_minor": 5
}
