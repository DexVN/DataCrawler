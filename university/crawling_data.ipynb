{
 "cells": [
  {
   "cell_type": "code",
   "execution_count": 161,
   "id": "f2d7bc51-1e18-4511-a9ca-969c7b7ef17f",
   "metadata": {},
   "outputs": [],
   "source": [
    "import requests\n",
    "from bs4 import BeautifulSoup"
   ]
  },
  {
   "cell_type": "code",
   "execution_count": 162,
   "id": "2147efad-fbbc-47a7-9029-1f220c1b9a2a",
   "metadata": {},
   "outputs": [],
   "source": [
    "# URL of the page you want to scrape\n",
    "# Tạo một phiên làm việc\n",
    "session = requests.Session()\n",
    "\n",
    "url = 'https://tnu.aum.edu.vn/mod/quiz/view.php?id=259431'"
   ]
  },
  {
   "cell_type": "code",
   "execution_count": 163,
   "id": "f269bde8-4950-4478-a8c6-0c4986b2ccc3",
   "metadata": {},
   "outputs": [],
   "source": [
    "# Define the cookie\n",
    "cookies = {\n",
    "    'MoodleSession': 'bd1ebvjj3v9luvr5ils164d5cb'  # Replace with actual cookie name and value\n",
    "}"
   ]
  },
  {
   "cell_type": "code",
   "execution_count": 164,
   "id": "7f28f0ac-4c18-4ee4-8f7d-09cb8b098f9e",
   "metadata": {},
   "outputs": [],
   "source": [
    "# Make the request with cookies\n",
    "response = requests.get(url, cookies=cookies)"
   ]
  },
  {
   "cell_type": "code",
   "execution_count": 165,
   "id": "9caa5daf-aa29-44d3-984c-6978dcb0a00a",
   "metadata": {},
   "outputs": [
    {
     "name": "stdout",
     "output_type": "stream",
     "text": [
      "Request successful\n"
     ]
    }
   ],
   "source": [
    "# Check the status code of the response\n",
    "if response.status_code == 200:\n",
    "    print(\"Request successful\")\n",
    "else:\n",
    "    print(f\"Failed to retrieve page: {response.status_code}\")"
   ]
  },
  {
   "cell_type": "code",
   "execution_count": 166,
   "id": "2ffa2c07-2164-4944-851d-42ae76c080d2",
   "metadata": {},
   "outputs": [],
   "source": [
    "# Parse the page with BeautifulSoup\n",
    "soup = BeautifulSoup(response.content, 'html.parser')"
   ]
  },
  {
   "cell_type": "code",
   "execution_count": 167,
   "id": "c6047bca",
   "metadata": {},
   "outputs": [],
   "source": [
    "# Find the element table class generaltable quizattemptsummary\n",
    "table = soup.find('table', class_='generaltable quizattemptsummary')\n",
    "# Find all href links in the table\n",
    "links = table.find_all('a')\n",
    "# Get value from href\n",
    "link_data = [link.get('href') for link in links]\n"
   ]
  },
  {
   "cell_type": "code",
   "execution_count": 168,
   "id": "ae3362d3-a7e3-47cc-81c8-4ed501cddd02",
   "metadata": {},
   "outputs": [
    {
     "name": "stdout",
     "output_type": "stream",
     "text": [
      "Request successful\n",
      "event\n",
      "Đối tượng phát sinh sự kiện\n",
      "public event  HandlerName  OnEventName;\n",
      "Một\n",
      "event\n",
      "Đối tượng thuộc lớp dẫn xuất từ EventArgs\n",
      "Thuộc tính và kiểu trả về\n",
      "+=\n",
      "Biên dịch và chạy thành công kết quả: Test.F\n",
      "*\n",
      "[{'question': 'Từ khoá để khai báo sự kiện trong C# là gì?', 'answers': ['A. Event', 'B. event()', 'C. events', 'D. event'], 'correct_answer': 'event', 'correct_symbol': 'D'}, {'question': 'Tham số thứ nhất của trình xử lý sự kiện phải là gì?', 'answers': ['A. Tham số kiểu float', 'B. Đối tượng thuộc lớp dẫn xuất từ EventArgs.', 'C. Tham số kiểu int', 'D. Đối tượng phát sinh sự kiện'], 'correct_answer': 'Đối tượng phát sinh sự kiện', 'correct_symbol': 'D'}, {'question': 'Có delegate xử lý sự kiện như sau:public delegate void HandlerName(object obj, EventArgs arg);Trong các khai báo sự kiện sau, khai báo nào đúng?', 'answers': ['A. event   public HandlerName  OnEventName;', 'B. public event OnEventName HandlerName;', 'C. public event  HandlerName  OnEventName;', 'D. public event HandlerName  OnEventName();'], 'correct_answer': 'public event  HandlerName  OnEventName;', 'correct_symbol': 'C'}, {'question': 'Một delegate có thể gọi bao nhiêu phương thức một lúc?', 'answers': ['A. Hai', 'B. Ba', 'C. Nhiều', 'D. Một'], 'correct_answer': 'Một', 'correct_symbol': 'D'}, {'question': 'Lớp dẫn xuất từ EventArgs chứa những thông tin về?', 'answers': ['A. delegate', 'B. event', 'C. collection', 'D. interface'], 'correct_answer': 'event', 'correct_symbol': 'B'}, {'question': 'Tham số thứ hai của trình xử lý sự kiện phải là gì?', 'answers': ['A. Đối tượng thuộc lớp dẫn xuất từ EventArgs', 'B. Đối tượng phát sinh sự kiện', 'C. Tham số kiểu float', 'D. Tham số kiểu int'], 'correct_answer': 'Đối tượng thuộc lớp dẫn xuất từ EventArgs', 'correct_symbol': 'A'}, {'question': 'Khi thực thi một uỷ nhiệm (delegate) cần quan tâm tới điều gì sau đây?', 'answers': ['A. Tên phương thức', 'B. Thuộc tính và kiểu trả về', 'C.  Kiểu trả về', 'D. Thuộc tính'], 'correct_answer': 'Thuộc tính và kiểu trả về', 'correct_symbol': 'B'}, {'question': 'Một multicast delegate cho phép nhận toán tử nào sau đây?', 'answers': ['A. +=', 'B. /=', 'C. *=', 'D. !='], 'correct_answer': '+=', 'correct_symbol': 'A'}, {'question': '1. delegate void SimpleDelegate();2. class Test{ 3. static void F() { 4. System.Console.WriteLine(“Test.F”); 5. } 6. static void Main() { 7. SimpleDelegate d = new SimpleDelegate(F); 8. d(); 9. } 10. } Kết quả khi cho biên dịch và chạy đoạn chương trình trên?', 'answers': ['A. Lỗi dòng 2', 'B. Lỗi dòng 7', 'C. Báo lỗi dòng 8: Không có tham số', 'D. Biên dịch và chạy thành công kết quả: Test.F'], 'correct_answer': 'Biên dịch và chạy thành công kết quả: Test.F', 'correct_symbol': 'D'}, {'question': 'Một multicast delegate KHÔNG cho phép nhận toán tử nào sau đây?', 'answers': ['A. *', 'B. +', 'C. +=', 'D. -'], 'correct_answer': '*', 'correct_symbol': 'A'}]\n",
      "Request successful\n",
      "public delegate int tinhtb(int x,int y);\n",
      "[{'question': 'Trong các khai báo delegate “tinhtb” sau, khai báo nào đúng cho phép tính hai số có kiểu trả về là kiểu số nguyên?', 'answers': ['A. delegate public int tinhtb(int x,int y);', 'B. public delegate int tinhtb(int x,int y);', 'C. public int delegate tinhtb(int x,int y);', 'D. int public delegate tinhtb(int x,int y);'], 'correct_answer': 'public delegate int tinhtb(int x,int y);', 'correct_symbol': 'B'}]\n",
      "Request successful\n",
      "[]\n",
      "Request successful\n",
      "[]\n",
      "Request successful\n",
      "[]\n"
     ]
    }
   ],
   "source": [
    "for link in link_data:\n",
    "    # Make the request with cookies\n",
    "    response = requests.get(link, cookies=cookies)\n",
    "\n",
    "    # Check the status code of the response\n",
    "    if response.status_code == 200:\n",
    "        print(\"Request successful\")\n",
    "    else:\n",
    "        print(f\"Failed to retrieve page: {response.status_code}\")\n",
    "\n",
    "    # Parse the page with BeautifulSoup\n",
    "    soup = BeautifulSoup(response.content, 'html.parser')\n",
    "\n",
    "    form = soup.find_all('form')\n",
    "\n",
    "    # Find by class\n",
    "    div = form[1].find_all('div', class_='que')\n",
    "\n",
    "    questions_answers = []\n",
    "\n",
    "    # Check file don't exits then create file\n",
    "    with open('desktop_application_programming.txt', 'a', encoding='utf-8') as file:\n",
    "        file.write('')\n",
    "\n",
    "    # Check file to get number of questions\n",
    "    number_of_question = 0\n",
    "    with open('desktop_application_programming.txt', 'r', encoding='utf-8') as file:\n",
    "        for line in file:\n",
    "            if line.startswith('Question'):\n",
    "                number_of_question += 1\n",
    "\n",
    "    for i in range(len(div)):\n",
    "        questions_answer = {\n",
    "            'question': '',\n",
    "            'answers': [],\n",
    "            'correct_answer': '',\n",
    "            'correct_symbol': ''\n",
    "        }\n",
    "        \n",
    "        question = div[i].find('div', class_='qtext').text\n",
    "        # Check file to ignore duplicate questions\n",
    "        with open('desktop_application_programming.txt', 'r', encoding='utf-8') as file:\n",
    "            if question in file.read():\n",
    "                continue\n",
    "        \n",
    "        questions_answer['question'] = question\n",
    "        \n",
    "        span = div[i].find_all('span', class_='answernumber')\n",
    "        value = div[i].find_all('div', class_='flex-fill ml-1')\n",
    "        try:\n",
    "            correct_answer = div[i].find('div', class_='rightanswer').find('p').text\n",
    "        except:\n",
    "            correct_answer = div[i].find('div', class_='rightanswer').text\n",
    "        print(correct_answer)\n",
    "\n",
    "        for j in range(len(span)):\n",
    "            answer = span[j].text + value[j].text\n",
    "            questions_answer['answers'].append(answer)\n",
    "            if correct_answer in answer:\n",
    "                questions_answer['correct_symbol'] = span[j].text[0:1]\n",
    "\n",
    "        questions_answer['correct_answer'] = correct_answer\n",
    "        questions_answers.append(questions_answer)    \n",
    "\n",
    "    # Save to file\n",
    "    with open('desktop_application_programming.txt', 'a', encoding='utf-8') as file:\n",
    "        for index, qa in enumerate(questions_answers):\n",
    "            file.write(f\"Question {number_of_question + index + 1}: {qa['question']}\\n\")\n",
    "            for answer in qa['answers']:\n",
    "                file.write(f\"Answer: {answer}\\n\")\n",
    "            file.write(f\"Correct Answer: {qa['correct_answer']}\\n\")\n",
    "            file.write(f\"Correct Symbol: {qa['correct_symbol']}\\n\")\n",
    "            file.write(\"--------------------\\n\")\n",
    "\n",
    "    print(questions_answers)"
   ]
  }
 ],
 "metadata": {
  "kernelspec": {
   "display_name": "Python 3",
   "language": "python",
   "name": "python3"
  },
  "language_info": {
   "codemirror_mode": {
    "name": "ipython",
    "version": 3
   },
   "file_extension": ".py",
   "mimetype": "text/x-python",
   "name": "python",
   "nbconvert_exporter": "python",
   "pygments_lexer": "ipython3",
   "version": "3.13.0"
  }
 },
 "nbformat": 4,
 "nbformat_minor": 5
}
