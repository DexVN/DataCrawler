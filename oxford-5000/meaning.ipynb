{
 "cells": [
  {
   "cell_type": "code",
   "execution_count": 10,
   "metadata": {},
   "outputs": [
    {
     "name": "stdout",
     "output_type": "stream",
     "text": [
      "File updated_oxford_dictionary.json đã được tạo thành công.\n"
     ]
    }
   ],
   "source": [
    "import json\n",
    "\n",
    "# Define file paths\n",
    "cleaned_meaning_file_path = 'cleaned_meaning.txt'\n",
    "dictionary_file_path = 'oxford_dictionary.json'\n",
    "updated_dictionary_file_path = 'updated_oxford_dictionary.json'\n",
    "\n",
    "# Read cleaned meanings from cleaned_meaning.txt\n",
    "with open(cleaned_meaning_file_path, 'r', encoding='utf-8') as file:\n",
    "    cleaned_meanings = file.readlines()\n",
    "\n",
    "# Normalize cleaned meanings\n",
    "cleaned_meanings = [line.split('|')[2].strip() for line in cleaned_meanings]\n",
    "\n",
    "# Read dictionary data from oxford_dictionary.json\n",
    "with open(dictionary_file_path, 'r', encoding='utf-8') as file:\n",
    "    dictionary_data = json.load(file)\n",
    "\n",
    "# Add mean to dictionary entries\n",
    "for i, entry in enumerate(dictionary_data):\n",
    "    if i < len(cleaned_meanings):\n",
    "        cleaned_meaning = cleaned_meanings[i]\n",
    "        entry['mean'] = cleaned_meaning\n",
    "\n",
    "# Save the updated dictionary data to a new file\n",
    "with open(updated_dictionary_file_path, 'w', encoding='utf-8') as file:\n",
    "    json.dump(dictionary_data, file, ensure_ascii=False, indent=4)\n",
    "\n",
    "print(\"File updated_oxford_dictionary.json đã được tạo thành công.\")"
   ]
  }
 ],
 "metadata": {
  "kernelspec": {
   "display_name": "Python 3",
   "language": "python",
   "name": "python3"
  },
  "language_info": {
   "codemirror_mode": {
    "name": "ipython",
    "version": 3
   },
   "file_extension": ".py",
   "mimetype": "text/x-python",
   "name": "python",
   "nbconvert_exporter": "python",
   "pygments_lexer": "ipython3",
   "version": "3.13.0"
  }
 },
 "nbformat": 4,
 "nbformat_minor": 2
}
