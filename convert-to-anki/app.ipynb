{
 "cells": [
  {
   "cell_type": "code",
   "execution_count": 16,
   "metadata": {},
   "outputs": [
    {
     "name": "stdout",
     "output_type": "stream",
     "text": [
      "Anki cards have been created successfully.\n"
     ]
    }
   ],
   "source": [
    "import json\n",
    "\n",
    "# Define file paths\n",
    "dictionary_file_path = 'oxford_dictionary_with_means_v2.json'\n",
    "anki_file_path = 'English_Learning__Oxford-5000.txt'\n",
    "\n",
    "# Read dictionary data from oxford_dictionary_with_means_v2.json\n",
    "with open(dictionary_file_path, 'r', encoding='utf-8') as file:\n",
    "    dictionary_data = json.load(file)\n",
    "\n",
    "# Open the Anki file in write mode\n",
    "with open(anki_file_path, 'w', encoding='utf-8') as file:\n",
    "    for entry in dictionary_data:\n",
    "        vocabulary = entry.get('vocabulary', '')\n",
    "        audio_uk = entry.get('audio_uk_path', '')\n",
    "        audio_us = entry.get('audio_us_path', '')\n",
    "        phons_br = entry.get('phons_br', '')\n",
    "        phons_n_am = entry.get('phons_n_am', '')\n",
    "        lexical_categories = entry.get('lexical_categories', '')\n",
    "        belong_to = entry.get('belong_to', '')\n",
    "        if belong_to is None:\n",
    "            belong_to = ''\n",
    "        mean = entry.get('mean', '')\n",
    "        means = entry.get('means', [])\n",
    "\n",
    "        # Prepare the front and back of the Anki card\n",
    "        front = f\"{vocabulary} <br> [sound:{audio_uk}] {phons_br} <br> [sound:{audio_us}] {phons_n_am} <br> {belong_to.upper() + \" -\" if belong_to else ''} {lexical_categories} \"\n",
    "        back = f\"<span class=\\\"meaning\\\">{mean}</span>\"\n",
    "\n",
    "        for meaning in means:\n",
    "            definition = meaning.get('definition', '')\n",
    "            examples = meaning.get('example', [])\n",
    "            example_level = meaning.get('example_level', '')\n",
    "            example_text = '<br>'.join(examples)\n",
    "            \n",
    "            back += f\"<div class=\\\"examples\\\">\"\n",
    "            if example_level:\n",
    "                back += f\"<span class=\\\"level\\\">{example_level}</span><br>\"\n",
    "            back += f\"<span class=\\\"mean\\\">{definition}</span><br><br><span class=\\\"ex\\\">{example_text}</span><br></div><hr>\"\n",
    "\n",
    "        # Write the card to the file\n",
    "        file.write(f\"{front}\\t{back}\\n\")\n",
    "\n",
    "print(\"Anki cards have been created successfully.\")"
   ]
  }
 ],
 "metadata": {
  "kernelspec": {
   "display_name": "Python 3",
   "language": "python",
   "name": "python3"
  },
  "language_info": {
   "codemirror_mode": {
    "name": "ipython",
    "version": 3
   },
   "file_extension": ".py",
   "mimetype": "text/x-python",
   "name": "python",
   "nbconvert_exporter": "python",
   "pygments_lexer": "ipython3",
   "version": "3.13.0"
  }
 },
 "nbformat": 4,
 "nbformat_minor": 2
}
