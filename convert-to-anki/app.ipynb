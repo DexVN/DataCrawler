{
 "cells": [
  {
   "cell_type": "code",
   "execution_count": 7,
   "metadata": {},
   "outputs": [
    {
     "name": "stdout",
     "output_type": "stream",
     "text": [
      "File TXT đã được tạo thành công.\n"
     ]
    }
   ],
   "source": [
    "import json\n",
    "\n",
    "# Load JSON data từ file\n",
    "with open('oxford_dictionary_with_means.json', 'r', encoding='utf-8') as f:\n",
    "    data = json.load(f)\n",
    "\n",
    "# Mở file txt để ghi\n",
    "with open('output.txt', 'w', encoding='utf-8') as file:\n",
    "    for entry in data:\n",
    "        # Định dạng mỗi mục từ vựng\n",
    "        vocabulary = entry['vocabulary']\n",
    "        belong_to = entry['belong_to']\n",
    "        audio_uk = entry['audio_uk_path']\n",
    "        audio_us = entry['audio_us_path']\n",
    "        \n",
    "        # Bắt đầu dòng với từ vựng, nghĩa và phát âm\n",
    "        file.write(f\"{vocabulary}\\t\\\"<span class=\\\"\\\"meaning\\\"\\\">{vocabulary}</span>\\\"\\t[sound:{audio_uk}]\\t[sound:{audio_us}]\\t\")\n",
    "        \n",
    "        # Chuyển đổi từng nghĩa thành các khối HTML\n",
    "        means_html = \"\"\n",
    "        if 'means' in entry:\n",
    "            for meaning in entry['means']:\n",
    "                order_sense = meaning['order_sense']\n",
    "                definition = meaning['definition']\n",
    "                example = meaning['example']\n",
    "\n",
    "                # Định dạng từng khối nghĩa theo kiểu HTML\n",
    "                means_html += f\"<div class=\\\"\\\"examples\\\"\\\">\\n\"\n",
    "                if belong_to:\n",
    "                    means_html += f\"  <span class=\\\"\\\"belong-to\\\"\\\">{belong_to.upper()}: </span>\\n\"\n",
    "                means_html += f\"  <span class=\\\"\\\"mean\\\"\\\">{definition}</span>\\n\"\n",
    "                means_html += f\"  <br><br>\\n\"\n",
    "                means_html += f\"  <span class=\\\"\\\"ex\\\"\\\">{example}</span>\\n\"\n",
    "                means_html += f\"  <br>\\n\"\n",
    "                means_html += f\"</div>\\n<hr>\\n\"\n",
    "\n",
    "        # Loại bỏ hr cuối cùng\n",
    "        if means_html.endswith(\"<hr>\\n\"):\n",
    "            means_html = means_html[:-5]\n",
    "\n",
    "        # Ghi vào file với HTML đã định dạng\n",
    "        file.write(f\"\\\"{means_html}\\\"\\n\")\n",
    "\n",
    "print(\"File TXT đã được tạo thành công.\")"
   ]
  }
 ],
 "metadata": {
  "kernelspec": {
   "display_name": "Python 3",
   "language": "python",
   "name": "python3"
  },
  "language_info": {
   "codemirror_mode": {
    "name": "ipython",
    "version": 3
   },
   "file_extension": ".py",
   "mimetype": "text/x-python",
   "name": "python",
   "nbconvert_exporter": "python",
   "pygments_lexer": "ipython3",
   "version": "3.13.0"
  }
 },
 "nbformat": 4,
 "nbformat_minor": 2
}
